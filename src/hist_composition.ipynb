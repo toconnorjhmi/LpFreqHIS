{
 "cells": [
  {
   "cell_type": "code",
   "execution_count": 5,
   "metadata": {},
   "outputs": [],
   "source": [
    "import gzip\n",
    "import pandas as pd\n",
    "\n",
    "from statistics import mean, stdev, median\n",
    "from Bio import SeqIO\n",
    "from Bio.SeqUtils.ProtParam import ProteinAnalysis"
   ]
  },
  {
   "cell_type": "code",
   "execution_count": null,
   "metadata": {},
   "outputs": [],
   "source": [
    "def hist_frequency(fasta_file, export_file):\n",
    "    protein_count = 0\n",
    "    hist_frequency = {} # use a dict instead of list to find the maximum \n",
    "\n",
    "    # Open the gzipped file and parse the sequences\n",
    "    with open(fasta_file, \"rt\") as handle:\n",
    "        for record in SeqIO.parse(handle, \"fasta\"):\n",
    "            X = ProteinAnalysis(str(record.seq))\n",
    "            hist_count = X.count_amino_acids()['H']\n",
    "            hist_frequency[record.name] = hist_count/X.length\n",
    "            protein_count += 1\n",
    "\n",
    "    # Sort the dictionary, convert to df and export to csv\n",
    "    df = pd.DataFrame.from_dict(\n",
    "        dict(sorted(hist_frequency.items(), key=lambda item: item[1], reverse=True)), orient='index')\n",
    "    df = df.reset_index()\n",
    "    df.to_csv(export_file, index = False, columns=['Name', 'Freq'])\n",
    "\n",
    "    return hist_frequency"
   ]
  }
 ],
 "metadata": {
  "kernelspec": {
   "display_name": "bioinformatics",
   "language": "python",
   "name": "python3"
  },
  "language_info": {
   "codemirror_mode": {
    "name": "ipython",
    "version": 3
   },
   "file_extension": ".py",
   "mimetype": "text/x-python",
   "name": "python",
   "nbconvert_exporter": "python",
   "pygments_lexer": "ipython3",
   "version": "3.10.14"
  }
 },
 "nbformat": 4,
 "nbformat_minor": 2
}
